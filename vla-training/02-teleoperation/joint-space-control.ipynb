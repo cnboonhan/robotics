{
 "cells": [
  {
   "cell_type": "markdown",
   "id": "038c0642",
   "metadata": {},
   "source": [
    "# Joint Space Control"
   ]
  },
  {
   "cell_type": "markdown",
   "id": "26fa8356",
   "metadata": {
    "vscode": {
     "languageId": "plaintext"
    }
   },
   "source": [
    "## SO-100 Cerberus"
   ]
  }
 ],
 "metadata": {
  "language_info": {
   "name": "python"
  }
 },
 "nbformat": 4,
 "nbformat_minor": 5
}
