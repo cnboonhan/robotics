{
 "cells": [
  {
   "cell_type": "markdown",
   "id": "a1d09ec8",
   "metadata": {},
   "source": [
    "# Environment Setup\n",
    "\n",
    "Install Miniconda: https://www.anaconda.com/docs/getting-started/miniconda/install"
   ]
  },
  {
   "cell_type": "markdown",
   "id": "290aa580",
   "metadata": {},
   "source": [
    "## LeRobot"
   ]
  },
  {
   "cell_type": "code",
   "execution_count": null,
   "id": "b3d37c23",
   "metadata": {
    "vscode": {
     "languageId": "shellscript"
    }
   },
   "outputs": [],
   "source": [
    "git clone https://github.com/huggingface/lerobot.git\n",
    "cd lerobot\n",
    "conda create -n lerobot python=3.10\n",
    "conda activate lerobot\n",
    "conda install ffmpeg=7.1.1 -c conda-forge\n",
    "pip install -e ."
   ]
  },
  {
   "cell_type": "markdown",
   "id": "55a80420",
   "metadata": {},
   "source": [
    "## GR00t"
   ]
  },
  {
   "cell_type": "markdown",
   "id": "1427827f",
   "metadata": {},
   "source": [
    "## Isaac Lab"
   ]
  }
 ],
 "metadata": {
  "language_info": {
   "name": "python"
  }
 },
 "nbformat": 4,
 "nbformat_minor": 5
}
