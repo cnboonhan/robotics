{
 "cells": [
  {
   "cell_type": "markdown",
   "id": "5e99293e",
   "metadata": {},
   "source": [
    "# Embodiments"
   ]
  },
  {
   "cell_type": "markdown",
   "id": "d0c1a9e6",
   "metadata": {},
   "source": [
    "## Fourier GR2"
   ]
  },
  {
   "cell_type": "markdown",
   "id": "c7adf02d",
   "metadata": {
    "vscode": {
     "languageId": "plaintext"
    }
   },
   "source": [
    "## SO100"
   ]
  }
 ],
 "metadata": {
  "language_info": {
   "name": "python"
  }
 },
 "nbformat": 4,
 "nbformat_minor": 5
}
