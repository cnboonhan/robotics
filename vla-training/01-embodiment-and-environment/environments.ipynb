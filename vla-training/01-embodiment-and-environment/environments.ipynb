{
 "cells": [
  {
   "cell_type": "markdown",
   "id": "ca504e28",
   "metadata": {},
   "source": [
    "# Environments"
   ]
  },
  {
   "cell_type": "markdown",
   "id": "e2ee71b7",
   "metadata": {},
   "source": [
    "## Virtual Environments"
   ]
  },
  {
   "cell_type": "markdown",
   "id": "e9851858",
   "metadata": {},
   "source": [
    "### Robocasa"
   ]
  },
  {
   "cell_type": "markdown",
   "id": "c65253fa",
   "metadata": {},
   "source": [
    "### Isaac Lab"
   ]
  },
  {
   "cell_type": "markdown",
   "id": "77f41a07",
   "metadata": {},
   "source": [
    "## Physical Environments"
   ]
  }
 ],
 "metadata": {
  "language_info": {
   "name": "python"
  }
 },
 "nbformat": 4,
 "nbformat_minor": 5
}
